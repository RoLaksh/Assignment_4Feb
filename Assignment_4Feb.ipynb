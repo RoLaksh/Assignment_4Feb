{
 "cells": [
  {
   "cell_type": "markdown",
   "id": "be117214-4eef-42a4-86ce-cfb0449a5885",
   "metadata": {},
   "source": [
    "Q1. Create a python program to sort the given list of tuples based on integer value using a\n",
    "lambda function.\n",
    "[('Sachin Tendulkar', 34357), ('Ricky Ponting', 27483), ('Jack Kallis', 25534), ('Virat Kohli', 24936)]"
   ]
  },
  {
   "cell_type": "code",
   "execution_count": 1,
   "id": "c9e2e2db-65ec-47d8-976b-84301c37247a",
   "metadata": {},
   "outputs": [
    {
     "name": "stdout",
     "output_type": "stream",
     "text": [
      "Virat Kohli: 24936 runs\n",
      "Jack Kallis: 25534 runs\n",
      "Ricky Ponting: 27483 runs\n",
      "Sachin Tendulkar: 34357 runs\n"
     ]
    }
   ],
   "source": [
    "#Answer =>\n",
    "data = [('Sachin Tendulkar', 34357), ('Ricky Ponting', 27483), ('Jack Kallis', 25534), ('Virat Kohli', 24936)]\n",
    "\n",
    "# Sort the list of tuples based on the second element (integer value)\n",
    "sorted_data = sorted(data, key=lambda x: x[1])\n",
    "\n",
    "# Print the sorted list\n",
    "for player, runs in sorted_data:\n",
    "    print(f\"{player}: {runs} runs\")\n"
   ]
  },
  {
   "cell_type": "markdown",
   "id": "23c73461-25af-478a-9c1d-8860edb6aebc",
   "metadata": {},
   "source": [
    "Q2. Write a Python Program to find the squares of all the numbers in the given list of integers using\n",
    "lambda and map functions.\n",
    "[1, 2, 3, 4, 5, 6, 7, 8, 9, 10]"
   ]
  },
  {
   "cell_type": "code",
   "execution_count": 2,
   "id": "18450046-d016-4bd0-9b0b-78598998491f",
   "metadata": {},
   "outputs": [
    {
     "name": "stdout",
     "output_type": "stream",
     "text": [
      "Squares of the numbers: [1, 4, 9, 16, 25, 36, 49, 64, 81, 100]\n"
     ]
    }
   ],
   "source": [
    "#Answer =>\n",
    "numbers = [1, 2, 3, 4, 5, 6, 7, 8, 9, 10]\n",
    "\n",
    "# Calculate the squares using map and lambda\n",
    "squares = list(map(lambda x: x**2, numbers))\n",
    "\n",
    "print(\"Squares of the numbers:\", squares)\n"
   ]
  },
  {
   "cell_type": "markdown",
   "id": "094dc1e7-42c4-4785-ab71-b34be5ba8726",
   "metadata": {},
   "source": [
    "Q3. Write a python program to convert the given list of integers into a tuple of strings. Use map and\n",
    "lambda functions\n",
    "Given String: [1, 2, 3, 4, 5, 6, 7, 8, 9, 10]\n",
    "Expected output: ('1', '2', '3', '4', '5', '6', '7', '8', '9', '10')"
   ]
  },
  {
   "cell_type": "code",
   "execution_count": 3,
   "id": "74db874f-17a4-435c-8538-940c39992ea9",
   "metadata": {},
   "outputs": [
    {
     "name": "stdout",
     "output_type": "stream",
     "text": [
      "Converted tuple of strings: ('1', '2', '3', '4', '5', '6', '7', '8', '9', '10')\n"
     ]
    }
   ],
   "source": [
    "#Answer =>\n",
    "numbers = [1, 2, 3, 4, 5, 6, 7, 8, 9, 10]\n",
    "\n",
    "# Convert the integers to strings using map and lambda\n",
    "string_tuple = tuple(map(lambda x: str(x), numbers))\n",
    "\n",
    "print(\"Converted tuple of strings:\", string_tuple)\n"
   ]
  },
  {
   "cell_type": "markdown",
   "id": "1b88e4c2-3a4a-4f02-af73-1222901ac566",
   "metadata": {},
   "source": [
    "Q4. Write a python program using reduce function to compute the product of a list containing numbers\n",
    "from 1 to 25."
   ]
  },
  {
   "cell_type": "code",
   "execution_count": 4,
   "id": "3baeaec1-1da5-4ac3-b587-d9a25aeaddce",
   "metadata": {},
   "outputs": [
    {
     "name": "stdout",
     "output_type": "stream",
     "text": [
      "Product of numbers from 1 to 25: 15511210043330985984000000\n"
     ]
    }
   ],
   "source": [
    "#Answer =>\n",
    "from functools import reduce\n",
    "\n",
    "# Create a list of numbers from 1 to 25\n",
    "numbers = list(range(1, 26))\n",
    "\n",
    "# Compute the product using reduce\n",
    "product = reduce(lambda x, y: x * y, numbers)\n",
    "\n",
    "print(f\"Product of numbers from 1 to 25: {product}\")\n"
   ]
  },
  {
   "cell_type": "markdown",
   "id": "a6fe88bb-476f-4cca-8c02-7dd493b5c236",
   "metadata": {},
   "source": [
    "Q5. Write a python program to filter the numbers in a given list that are divisible by 2 and 3 using the\n",
    "filter function.\n",
    "[2, 3, 6, 9, 27, 60, 90, 120, 55, 46]"
   ]
  },
  {
   "cell_type": "code",
   "execution_count": 5,
   "id": "279d5592-346f-4e29-85cf-dbd04b7c7bae",
   "metadata": {},
   "outputs": [
    {
     "name": "stdout",
     "output_type": "stream",
     "text": [
      "Numbers divisible by 2 and 3: [6, 60, 90, 120]\n"
     ]
    }
   ],
   "source": [
    "#Answer =>\n",
    "def filter_divisible_by_2_and_3(numbers):\n",
    "    # Use the filter function with a lambda expression\n",
    "    filtered_numbers = filter(lambda x: x % 2 == 0 and x % 3 == 0, numbers)\n",
    "    return list(filtered_numbers)\n",
    "\n",
    "# Given list\n",
    "my_list = [2, 3, 6, 9, 27, 60, 90, 120, 55, 46]\n",
    "\n",
    "# Call the function and print the result\n",
    "result = filter_divisible_by_2_and_3(my_list)\n",
    "print(f\"Numbers divisible by 2 and 3: {result}\")\n"
   ]
  },
  {
   "cell_type": "markdown",
   "id": "c78e5654-b2ab-4ee5-a752-ba68bb43f04c",
   "metadata": {},
   "source": [
    "Q6. Write a python program to find palindromes in the given list of strings using lambda and filter\n",
    "function.\n",
    "['python', 'php', 'aba', 'radar', 'level']"
   ]
  },
  {
   "cell_type": "code",
   "execution_count": 6,
   "id": "09124d09-d23d-4e27-97e7-e80149c1b82f",
   "metadata": {},
   "outputs": [
    {
     "name": "stdout",
     "output_type": "stream",
     "text": [
      "Palindromes in the list: ['php', 'aba', 'radar', 'level']\n"
     ]
    }
   ],
   "source": [
    "#Answer =>\n",
    "def is_palindrome(word):\n",
    "    # Check if the word is a palindrome\n",
    "    return word == word[::-1]\n",
    "\n",
    "# Given list of strings\n",
    "my_strings = ['python', 'php', 'aba', 'radar', 'level']\n",
    "\n",
    "# Use filter to find palindromes\n",
    "palindromes = filter(lambda x: is_palindrome(x), my_strings)\n",
    "\n",
    "# Convert the filtered result to a list\n",
    "palindrome_list = list(palindromes)\n",
    "\n",
    "print(f\"Palindromes in the list: {palindrome_list}\")\n"
   ]
  },
  {
   "cell_type": "code",
   "execution_count": null,
   "id": "1bb967c6-eea6-4dad-bb9f-57d9fdcc8e42",
   "metadata": {},
   "outputs": [],
   "source": []
  }
 ],
 "metadata": {
  "kernelspec": {
   "display_name": "Python 3 (ipykernel)",
   "language": "python",
   "name": "python3"
  },
  "language_info": {
   "codemirror_mode": {
    "name": "ipython",
    "version": 3
   },
   "file_extension": ".py",
   "mimetype": "text/x-python",
   "name": "python",
   "nbconvert_exporter": "python",
   "pygments_lexer": "ipython3",
   "version": "3.10.8"
  }
 },
 "nbformat": 4,
 "nbformat_minor": 5
}
